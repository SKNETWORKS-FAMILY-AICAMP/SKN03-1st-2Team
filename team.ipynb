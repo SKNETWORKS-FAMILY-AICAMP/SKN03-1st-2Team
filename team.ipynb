{
 "cells": [
  {
   "cell_type": "code",
   "execution_count": 1,
   "metadata": {},
   "outputs": [
    {
     "name": "stdout",
     "output_type": "stream",
     "text": [
      "Requirement already satisfied: requests in .\\.venv\\lib\\site-packages (2.32.3)\n",
      "Requirement already satisfied: beautifulsoup4 in .\\.venv\\lib\\site-packages (4.12.3)\n",
      "Requirement already satisfied: charset-normalizer<4,>=2 in .\\.venv\\lib\\site-packages (from requests) (3.3.2)\n",
      "Requirement already satisfied: idna<4,>=2.5 in .\\.venv\\lib\\site-packages (from requests) (3.7)\n",
      "Requirement already satisfied: urllib3<3,>=1.21.1 in .\\.venv\\lib\\site-packages (from requests) (2.2.2)\n",
      "Requirement already satisfied: certifi>=2017.4.17 in .\\.venv\\lib\\site-packages (from requests) (2024.7.4)\n",
      "Requirement already satisfied: soupsieve>1.2 in .\\.venv\\lib\\site-packages (from beautifulsoup4) (2.5)\n",
      "Note: you may need to restart the kernel to use updated packages.\n"
     ]
    }
   ],
   "source": [
    "pip install requests beautifulsoup4"
   ]
  },
  {
   "cell_type": "code",
   "execution_count": 9,
   "metadata": {},
   "outputs": [
    {
     "name": "stdout",
     "output_type": "stream",
     "text": [
      "Page successfully retrieved and parsed.\n"
     ]
    }
   ],
   "source": [
    "import requests #requsts 모듈>? 다운로드 임포트?\n",
    "from bs4 import BeautifulSoup   # beautifulsoup 마찬가지로 다운? 임포트?\n",
    "\n",
    "# 웹 페이지 요청\n",
    "url = 'https://navi.kt.com/faqList.html'    #url이라는 변수에 크롤링 할 사이트 url을 담기.\n",
    "response = requests.get(url)    #requests.get(url) 함수를 사용했고 \n",
    "                                #response 변수에 응답? 을 저장\n",
    "\n",
    "# 응답이 성공적인지 확인\n",
    "if response.status_code == 200: #응답 상태의 코드를 확인 400이면 내잘못 500이면 니잘못\n",
    "    # HTML 파싱\n",
    "    soup = BeautifulSoup(response.text, 'html.parser')  #파서가 뭐고 파싱이 뭔데\n",
    "    print(\"Page successfully retrieved and parsed.\")    #잘 됐으면 저거 출력해\n",
    "else:\n",
    "    print(f'Failed to retrieve the webpage. Status code: {response.status_code}')   #실패했으면 이거 출력하고\n"
   ]
  },
  {
   "cell_type": "code",
   "execution_count": 10,
   "metadata": {},
   "outputs": [],
   "source": [
    "# FAQ 항목을 저장할 리스트\n",
    "FAQ_list = []   #크롤링 한 데이터를 담을 리스트 생성\n",
    "\n",
    "# FAQ 항목 찾기\n",
    "FAQ_items = soup.find_all('div', class_='FAQ-item') #사실 뭔지 이해 잘 안됨\n",
    "\n",
    "# 각 FAQ 항목에서 질문과 답변 추출\n",
    "for item in FAQ_items:\n",
    "    question = item.find('div', class_='FAQ-question').get_text(strip=True)\n",
    "    answer = item.find('div', class_='FAQ-answer').get_text(strip=True)\n",
    "    FAQ_list.append({'question': question, 'answer': answer})\n",
    "    # 이 위의 코드들 이해가 잘 안되는데 일단 베끼기 형식으로 작성완료\n",
    "\n",
    "\n",
    "# 추출한 데이터 확인\n",
    "for FAQ in FAQ_list:    #FAQ 리스트에서 FAQ를 반복\n",
    "    print(f\"Q: {FAQ['question']}\")  #질문 출력\n",
    "    print(f\"A: {FAQ['answer']}\")    #대답  \n",
    "    print('-' * 40)                 #질문과 답변을 구분하기 위해 줄을 출력한다는데 이게 왜?"
   ]
  },
  {
   "cell_type": "code",
   "execution_count": 11,
   "metadata": {},
   "outputs": [
    {
     "name": "stdout",
     "output_type": "stream",
     "text": [
      "Data successfully saved to 'FAQ_data.csv'.\n"
     ]
    }
   ],
   "source": [
    "import pandas as pd #판다스 라는 모듈? 라이브러리? 다운? 임포트?\n",
    "\n",
    "# 데이터프레임으로 변환\n",
    "df = pd.DataFrame(FAQ_list) #FAQ_list를 판다스 데이터프레임으로 변환하고 df에 담기?\n",
    "\n",
    "# CSV 파일로 저장\n",
    "df.to_csv('FAQ_data.csv', index=False)  #데이터프레임을 cvs파일로 저장하는거고\n",
    "\n",
    "print(\"Data successfully saved to 'FAQ_data.csv'.\") #잘됐으면 출력해"
   ]
  },
  {
   "cell_type": "code",
   "execution_count": 14,
   "metadata": {},
   "outputs": [
    {
     "data": {
      "text/plain": [
       "[<a class=\"accordion-trigger\" href=\"#accordions1-16\" title=\"ì´ë¦¼\">[ìì±ì¸ì] ìì±ì¸ì íµí´ í  ì ìë ê¸°ë¥ì ë¬´ìì¸ê°ì? (ë¬´ìì´ ì¢ìì§ëì?)</a>,\n",
       " <a class=\"accordion-trigger\" href=\"#accordions1-17\" title=\"ì´ë¦¼\">[ìì±ì¸ì] ìì±ì¸ì ê¸°ë¥ì ì´ë»ê² ììí  ì ìëì? </a>,\n",
       " <a class=\"accordion-trigger\" href=\"#accordions1-18\">[ìì±ì¸ì] ìµì ë²ì ì¼ë¡ ì±ì ì\n",
       " ë°ì´í¸ íëë° íë©´ì ë§ì´í¬ ë²í¼ì´ ì ë³´ì\n",
       " ëë¤. </a>,\n",
       " <a class=\"accordion-trigger\" href=\"#accordions1-19\">[ìì±ì¸ì] ì  ë¨ë§ì ìì±ì¸ì ì§ì ë¨ë§ì¸ë° 'ë§ì´í¬ ë²í¼'ì´ ì ë³´ì\n",
       " ëë¤. ì´ë»ê² íë©´ ëëì? </a>,\n",
       " <a class=\"accordion-trigger\" href=\"#accordions1-20\">[ìì±ì¸ì] ìì±ì¸ì ì¬ì© ì¤ìë ë°ì´í° ìê¸ì ë¬´ë£ì¸ê°ì?</a>,\n",
       " <a class=\"accordion-trigger\" href=\"#accordions1-21\">[ìì±ì¸ì] ìì±ì¸ìì´ ì ìë©ëë¤. ì´ë»ê² íë©´ ëëì?</a>,\n",
       " <a class=\"accordion-trigger\" href=\"#accordions1-22\">[ìì±ì¸ì] IOSë ì¸ì ë¶í° ì¬ì© ê°ë¥íê°ì?</a>,\n",
       " <a class=\"accordion-trigger\" href=\"#accordions1-1\">[ìê¸ë¬¸ì] ë°ì´í° ìê¸ì ë¬´ë£ì¸ê°ì?</a>,\n",
       " <a class=\"accordion-trigger\" href=\"#accordions1-2\">[ì± ë¤ì´ë¡ë/ì\n",
       " ë°ì´í¸] 'ì¤ì¹í  ì ììµëë¤.' ì¤ë¥ë©ì¸ì§ê° ë³´ì´ê±°ë ì± ì¤íì ë°ë¡ ì¢\n",
       " ë£ë©ëë¤.</a>,\n",
       " <a class=\"accordion-trigger\" href=\"#accordions1-3\">[ë°ì´í° ì­ì ] ìµê·¼ ê²ìì´ë¥¼ ì­ì íê³  ì¶ìµëë¤.</a>,\n",
       " <a class=\"accordion-trigger\" href=\"#accordions1-4\">[ë°ì´í° ì­ì ] ì´ì  ëª©ì ì§ë¥¼ ì­ì íê³  ì¶ìµëë¤.</a>,\n",
       " <a class=\"accordion-trigger\" href=\"#accordions1-5\">[ê²ì ì¤ë¥] ëª©ì ì§ ê²ìì´ ìë©ëë¤.</a>,\n",
       " <a class=\"accordion-trigger\" href=\"#accordions1-6\">[GPS ìì  ë° íìì¹ íì] íì¬ ìì¹(ì¶ë°ì§)ê° ìë ë¤ë¥¸ ê³³ì ì¡ê±°ë ì§ëê° ë©ì¶° ììµëë¤.</a>,\n",
       " <a class=\"accordion-trigger\" href=\"#accordions1-7\">[ìëì¡°ì ] ë¸ë£¨í¬ì¤ë¥¼ ì°ê²°íì¬ ì¬ì©íëë° ë´ë¹ê²ì´ì\n",
       "  ëë¬¸ì ìì\n",
       " ìë¦¬ê° ììì¡ìµëë¤.</a>,\n",
       " <a class=\"accordion-trigger\" href=\"#accordions1-8\">[ìëì¡°ì ] ìë ì¡°ì ì´ ëì§ ììµëë¤.</a>,\n",
       " <a class=\"accordion-trigger\" href=\"#accordions1-9\">[ìëì¡°ì ] ìë´ìì±ì´ ì í ë¤ë¦¬ì§ ììµëë¤.</a>,\n",
       " <a class=\"accordion-trigger\" href=\"#accordions1-10\">[ê¸¸ ìë´ ì¤ë¥] ëª©ì ì§ ëì°© í ì£¼ì°¨ì¥ì´ ìë ìëì°¨ê° ì§ì\n",
       " í  ì ìë ê³³ì¼ë¡ ìë´ë©ëë¤.</a>,\n",
       " <a class=\"accordion-trigger\" href=\"#accordions1-11\">[ê¸¸ ìë´ ì¤ë¥] ëª©ì ì§ì ëì°©íì§ ììëë° ëì°©íë¤ê³  ëìµëë¤. </a>,\n",
       " <a class=\"accordion-trigger\" href=\"#accordions1-12\">[ê¸°í] íì¬ ë¨ë§ì kt ì ì¬ ì¹´ëë¥¼ ì¬ì©íê³  ììµëë¤. ì´ì©ì´ ê°ë¥íê°ì?</a>,\n",
       " <a class=\"accordion-trigger\" href=\"#accordions1-13\">[ê¸°í] ë´ë¹ ì´ì© ì ì ëí ë¹ ë¥´ê² ë°°í°ë¦¬ê° ìëª¨ë©ëë¤.</a>,\n",
       " <a class=\"accordion-trigger\" href=\"#accordions1-14\">[ê¸°í] ë¤í¸ìí¬ ì ì ë¬¸ì ì ëí íì\n",
       " ì´ ë¨ê³  ìë¹ì¤ ì¤íì´ ìë©ëë¤.</a>,\n",
       " <a class=\"accordion-trigger\" href=\"#accordions1-15\">[ê¸°í] ì¨ì´ë¬ë¸ ëë°ì´ì¤ ì§ìì´ ê°ë¥íê°ì?</a>]"
      ]
     },
     "execution_count": 14,
     "metadata": {},
     "output_type": "execute_result"
    }
   ],
   "source": [
    "soup.find_all(\"a\", class_=\"accordion-trigger\")"
   ]
  },
  {
   "cell_type": "code",
   "execution_count": 17,
   "metadata": {},
   "outputs": [
    {
     "ename": "NameError",
     "evalue": "name 'find_all' is not defined",
     "output_type": "error",
     "traceback": [
      "\u001b[1;31m---------------------------------------------------------------------------\u001b[0m",
      "\u001b[1;31mNameError\u001b[0m                                 Traceback (most recent call last)",
      "Cell \u001b[1;32mIn[17], line 1\u001b[0m\n\u001b[1;32m----> 1\u001b[0m soup[\u001b[43mfind_all\u001b[49m()]\u001b[38;5;241m.\u001b[39mget_text()\u001b[38;5;241m.\u001b[39mreplace(\u001b[38;5;124m\"\u001b[39m\u001b[38;5;130;01m\\n\u001b[39;00m\u001b[38;5;124m\"\u001b[39m,\u001b[38;5;124m\"\u001b[39m\u001b[38;5;124m\"\u001b[39m)\u001b[38;5;241m.\u001b[39mreplace(\u001b[38;5;124m\"\u001b[39m\u001b[38;5;130;01m\\t\u001b[39;00m\u001b[38;5;124m\"\u001b[39m,\u001b[38;5;124m\"\u001b[39m\u001b[38;5;124m\"\u001b[39m)\n",
      "\u001b[1;31mNameError\u001b[0m: name 'find_all' is not defined"
     ]
    }
   ],
   "source": []
  },
  {
   "cell_type": "code",
   "execution_count": 19,
   "metadata": {},
   "outputs": [
    {
     "ename": "NameError",
     "evalue": "name 'main' is not defined",
     "output_type": "error",
     "traceback": [
      "\u001b[1;31m---------------------------------------------------------------------------\u001b[0m",
      "\u001b[1;31mNameError\u001b[0m                                 Traceback (most recent call last)",
      "Cell \u001b[1;32mIn[19], line 1\u001b[0m\n\u001b[1;32m----> 1\u001b[0m soup \u001b[38;5;241m=\u001b[39m \u001b[43mmain\u001b[49m()\n\u001b[0;32m      2\u001b[0m soup\n",
      "\u001b[1;31mNameError\u001b[0m: name 'main' is not defined"
     ]
    }
   ],
   "source": [
    "soup = main()\n",
    "soup"
   ]
  },
  {
   "cell_type": "code",
   "execution_count": null,
   "metadata": {},
   "outputs": [],
   "source": []
  }
 ],
 "metadata": {
  "kernelspec": {
   "display_name": ".venv",
   "language": "python",
   "name": "python3"
  },
  "language_info": {
   "codemirror_mode": {
    "name": "ipython",
    "version": 3
   },
   "file_extension": ".py",
   "mimetype": "text/x-python",
   "name": "python",
   "nbconvert_exporter": "python",
   "pygments_lexer": "ipython3",
   "version": "3.12.4"
  }
 },
 "nbformat": 4,
 "nbformat_minor": 2
}
