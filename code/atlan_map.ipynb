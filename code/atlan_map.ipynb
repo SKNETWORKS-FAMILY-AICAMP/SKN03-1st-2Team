{
 "cells": [
  {
   "cell_type": "code",
   "execution_count": 3,
   "metadata": {},
   "outputs": [
    {
     "ename": "ModuleNotFoundError",
     "evalue": "No module named 'requests'",
     "output_type": "error",
     "traceback": [
      "\u001b[1;31m---------------------------------------------------------------------------\u001b[0m",
      "\u001b[1;31mModuleNotFoundError\u001b[0m                       Traceback (most recent call last)",
      "Cell \u001b[1;32mIn[3], line 1\u001b[0m\n\u001b[1;32m----> 1\u001b[0m \u001b[38;5;28;01mimport\u001b[39;00m \u001b[38;5;21;01mrequests\u001b[39;00m\n\u001b[0;32m      2\u001b[0m \u001b[38;5;28;01mfrom\u001b[39;00m \u001b[38;5;21;01mbs4\u001b[39;00m \u001b[38;5;28;01mimport\u001b[39;00m BeautifulSoup \u001b[38;5;28;01mas\u001b[39;00m bs\n\u001b[0;32m      3\u001b[0m \u001b[38;5;28;01mfrom\u001b[39;00m \u001b[38;5;21;01msqlalchemy\u001b[39;00m \u001b[38;5;28;01mimport\u001b[39;00m create_engine\n",
      "\u001b[1;31mModuleNotFoundError\u001b[0m: No module named 'requests'"
     ]
    }
   ],
   "source": [
    "import requests\n",
    "from bs4 import BeautifulSoup as bs\n",
    "from sqlalchemy import create_engine\n",
    "import sys\n",
    "import oss\n",
    "import pandas as pd\n",
    "from sqlalchemy import create_engine"
   ]
  },
  {
   "cell_type": "code",
   "execution_count": null,
   "metadata": {},
   "outputs": [],
   "source": [
    "# 현재 작업 디렉토리 경로 가져오기\n",
    "current_dir = os.path.dirname(os.path.abspath('atlan_map.ipynb'))\n",
    "\n",
    "# module_FAQ 디렉토리 경로를 sys.path에 추가\n",
    "module_faq_path = os.path.abspath(os.path.join(current_dir, '../module_FAQ'))\n",
    "sys.path.append(module_faq_path)"
   ]
  },
  {
   "cell_type": "code",
   "execution_count": null,
   "metadata": {},
   "outputs": [],
   "source": [
    "# 각 .py 파일에서 필요한 함수 가져오기\n",
    "from make_dataframe import make_df\n",
    "from send_to_mysql import send_2_mysql\n",
    "from request_web import request_webdata"
   ]
  },
  {
   "cell_type": "code",
   "execution_count": null,
   "metadata": {},
   "outputs": [],
   "source": [
    "a_data = request_webdata('아틀란')"
   ]
  },
  {
   "cell_type": "code",
   "execution_count": null,
   "metadata": {},
   "outputs": [],
   "source": [
    "# keywords_in_FAQ = []\n",
    "# keywords_texts = []\n",
    "# seen_keywords = set()  # 중복 확인을 위한 집합\n",
    "\n",
    "# # 각 keywords 리스트의 요소에서 텍스트만 추출\n",
    "# for k_lists in a_data[0]:\n",
    "#     for span in k_lists:\n",
    "#         text = span.text.strip()  # .strip()으로 앞뒤 공백 제거\n",
    "#         keywords_in_FAQ.append(text)\n",
    "#         # 텍스트가 이미 본 적이 없는 경우에만 추가\n",
    "#         if text not in seen_keywords:\n",
    "#             seen_keywords.add(text)  # 텍스트를 집합에 추가\n",
    "#             keywords_texts.append(text)  # 리스트에 텍스트 추가"
   ]
  },
  {
   "cell_type": "code",
   "execution_count": null,
   "metadata": {},
   "outputs": [],
   "source": [
    "# question_texts = []\n",
    "# seen_texts = set()  # 중복 확인을 위한 집합\n",
    "\n",
    "# # 각 question 리스트의 요소에서 텍스트만 추출\n",
    "# for q_list in a_data[1]:\n",
    "#     for span in q_list:\n",
    "#         text = span.text.strip()  # .strip()으로 앞뒤 공백 제거\n",
    "        \n",
    "#         # 중복제거\n",
    "#         if text not in seen_texts:\n",
    "#             seen_texts.add(text)  # 텍스트를 집합에 추가\n",
    "#             question_texts.append(text)  # 리스트에 텍스트 추가"
   ]
  },
  {
   "cell_type": "code",
   "execution_count": null,
   "metadata": {},
   "outputs": [],
   "source": [
    "# answer_texts = []\n",
    "# seen_answer = set()  # 중복 확인을 위한 집합\n",
    "\n",
    "# # 각 keywords 리스트의 요소에서 텍스트만 추출\n",
    "# for a_lists in a_data[2]:\n",
    "#     for span in a_lists:\n",
    "#         text = span.text.strip()  # .strip()으로 앞뒤 공백 제거\n",
    "\n",
    "#         # 텍스트가 이미 본 적이 없는 경우에만 추가\n",
    "#         if text not in seen_answer:\n",
    "#             seen_answer.add(text)  # 텍스트를 집합에 추가\n",
    "#             answer_texts.append(text)  # 리스트에 텍스트 추가"
   ]
  },
  {
   "cell_type": "code",
   "execution_count": null,
   "metadata": {},
   "outputs": [],
   "source": [
    "# 데이터 프레임 받아오기\n",
    "df = make_df(a_data[0], a_data[1], a_data[2])"
   ]
  },
  {
   "cell_type": "code",
   "execution_count": null,
   "metadata": {},
   "outputs": [],
   "source": [
    "send_2_mysql(df, 'atlan')"
   ]
  }
 ],
 "metadata": {
  "kernelspec": {
   "display_name": ".venv",
   "language": "python",
   "name": "python3"
  },
  "language_info": {
   "codemirror_mode": {
    "name": "ipython",
    "version": 3
   },
   "file_extension": ".py",
   "mimetype": "text/x-python",
   "name": "python",
   "nbconvert_exporter": "python",
   "pygments_lexer": "ipython3",
   "version": "3.12.4"
  }
 },
 "nbformat": 4,
 "nbformat_minor": 2
}
